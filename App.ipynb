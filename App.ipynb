{
 "cells": [
  {
   "cell_type": "markdown",
   "metadata": {},
   "source": [
    "# Написание приложения с использованием функционального подхода"
   ]
  },
  {
   "cell_type": "markdown",
   "metadata": {},
   "source": [
    "### 1. Техническое задание\n",
    "### Название приложения: **Учет финансов**\n",
    "### Функционал:\n",
    "1. Приложение для одного пользователя\n",
    "2. В приложение можно заносить поступления и траты финансов\n",
    "3. Можно задавать категорию\n",
    "4. Можно задавать конкретную дату\n",
    "5. Можно получать статистику за определенный промежуток времени \n",
    "6. В статистике отображаются траты и поступления по категориям"
   ]
  },
  {
   "cell_type": "markdown",
   "metadata": {},
   "source": [
    "### 2. Какие библиотекии используем?"
   ]
  },
  {
   "cell_type": "code",
   "execution_count": 14,
   "metadata": {},
   "outputs": [],
   "source": [
    "import datetime as dt\n",
    "from collections import defaultdict\n",
    "import json\n",
    "import os.path"
   ]
  },
  {
   "cell_type": "markdown",
   "metadata": {},
   "source": [
    "### 3. Пользовательский интерфейс"
   ]
  },
  {
   "cell_type": "code",
   "execution_count": 2,
   "metadata": {},
   "outputs": [],
   "source": [
    "def greet():\n",
    "    print(\"Приветствуем вас в приложении\")\n",
    "    print(\"-----------------------------\")\n",
    "    print(\"------- Учёт финансов -------\")\n",
    "    print(\"-----------------------------\")\n",
    "    print(\"        Режимы работы:       \")\n",
    "    print(\"-----------------------------\")\n",
    "    print(\"   1.  Добавить зачисление   \")\n",
    "    print(\"   2.  Добавить трату        \")\n",
    "    print(\"   3.  Получить статистику   \")\n",
    "    print(\"   4.  Выйти из программы    \")\n",
    "    print(\"-----------------------------\")\n",
    "    print(\" Формат ввода даты: YY-MM-DD \")\n",
    "\n",
    "def ask_mode():\n",
    "    print(\"-----------------------------\")\n",
    "    return input(\"    Выберите режим работы:   \")\n",
    "\n",
    "def wrong():\n",
    "    print(\"-----------------------------\")\n",
    "    print(\" Вы ввели некорректный режим \")"
   ]
  },
  {
   "cell_type": "code",
   "execution_count": 47,
   "metadata": {},
   "outputs": [],
   "source": [
    "def ask_cost(ask_str):\n",
    "    number = None\n",
    "    while number is None:\n",
    "        num_str =  input(\"  Введите сумму:             \")\n",
    "        if num_str.isdigit():\n",
    "            number = int(num_str)\n",
    "        else:\n",
    "            print(\" Вы ввели некорректное число!\")\n",
    "            continue\n",
    "    return number\n",
    "\n",
    "def ask_date(ask_str):\n",
    "    date = None\n",
    "    while date is None:\n",
    "        date_str = input(ask_str)\n",
    "        splitted = date_str.split(\"-\")\n",
    "        \n",
    "        if len(splitted)!= 3:\n",
    "            print(\" Введена некорректная дата!  \")\n",
    "            continue\n",
    "        \n",
    "        check = [] \n",
    "        for string in splitted:\n",
    "            check.append(string.isdigit())\n",
    "        \n",
    "        if not(all(check)):\n",
    "            print(\" Часть даты- не число!       \")\n",
    "            continue\n",
    "        \n",
    "        splitted[0] = \"20\"+splitted[0]\n",
    "        year, month, day = map(int, splitted)\n",
    "        date = dt.date(year, month, day)\n",
    "    return date"
   ]
  },
  {
   "cell_type": "code",
   "execution_count": 18,
   "metadata": {},
   "outputs": [],
   "source": [
    "def ask_income():\n",
    "    print(\"-----------------------------\")\n",
    "    cat = input(\"  Введите категорию:         \")\n",
    "    cost = ask_cost(\"  Введите сумму поступления:\")\n",
    "    date = ask_date(\"  Введите дату поступления: \")\n",
    "    return [\"+\",cat, date, cost]\n",
    "\n",
    "def ask_spend():\n",
    "    print(\"-----------------------------\")\n",
    "    cat = input(\"  Введите категорию:         \")\n",
    "    cost = ask_cost(\"  Введите сумму траты:      \")\n",
    "    date = ask_date(\"  Введите дату траты:       \")\n",
    "    return [\"-\",cat, date, cost]"
   ]
  },
  {
   "cell_type": "markdown",
   "metadata": {},
   "source": [
    "### 4. Вывод статистики"
   ]
  },
  {
   "cell_type": "code",
   "execution_count": null,
   "metadata": {},
   "outputs": [],
   "source": [
    "def stat_all_time(data):\n",
    "    income_stat = defaultdict(list)\n",
    "    spend_stat = defaultdict(list)\n",
    "    \n",
    "    for typ, cat, date, cost in data:\n",
    "        if typ == \"+\":\n",
    "            income_stat[cat].append(cost)\n",
    "        if typ == \"-\":\n",
    "            spend_stat[cat].append(cost)\n",
    "    \n",
    "    \n",
    "    print(\"-----------------------------\")\n",
    "    print(\"  Статистика поступлений:    \")\n",
    "    print(\"-----------------------------\")\n",
    "    \n",
    "    for cat, cost_list in income_stat.items():\n",
    "        print(f\"  {cat:20} - {sum(cost_list)}\")\n",
    "    \n",
    "    print(\"-----------------------------\")\n",
    "    print(\"  Статистика трат:           \")\n",
    "    print(\"-----------------------------\")\n",
    "    for cat, cost_list in spend_stat.items():\n",
    "        print(f\"  {cat:20} - {sum(cost_list)}\")"
   ]
  },
  {
   "cell_type": "code",
   "execution_count": 27,
   "metadata": {},
   "outputs": [],
   "source": [
    "def ask_interval():\n",
    "    date1 = ask_date(\"  Введите начало интервала:\")\n",
    "    date2 = ask_date(\"  Введите конец интервала: \")\n",
    "    return (date1,date2)\n",
    "\n",
    "def stat(data, date1, date2):\n",
    "    income_stat = defaultdict(list)\n",
    "    spend_stat = defaultdict(list)\n",
    "    \n",
    "    for typ, cat, date, cost in data:\n",
    "        if date >= date1 and date <= date2:\n",
    "            if typ == \"+\":\n",
    "                income_stat[cat].append(cost)\n",
    "            if typ == \"-\":\n",
    "                spend_stat[cat].append(cost)\n",
    "    \n",
    "    print(\"-----------------------------\")\n",
    "    print(\"  Статистика поступлений:    \")\n",
    "    print(\"-----------------------------\")\n",
    "    for cat, cost_list in income_stat.items():\n",
    "        print(f\"  {cat:20} - {sum(cost_list)}\")\n",
    "    print(\"-----------------------------\")\n",
    "    print(\"  Статистика трат:           \")\n",
    "    print(\"-----------------------------\")\n",
    "    for cat, cost_list in spend_stat.items():\n",
    "        print(f\"  {cat:20} - {sum(cost_list)}\")"
   ]
  },
  {
   "cell_type": "markdown",
   "metadata": {},
   "source": [
    "### 5. Цикл с опросом пользователя"
   ]
  },
  {
   "cell_type": "code",
   "execution_count": 76,
   "metadata": {},
   "outputs": [],
   "source": [
    "def loop(data):\n",
    "    greet()\n",
    "    \n",
    "    while True:\n",
    "        mode = ask_mode()\n",
    "        if mode == \"1\":\n",
    "            data.append(ask_income())\n",
    "        elif mode == \"2\":\n",
    "            data.append(ask_spend())\n",
    "        elif mode == \"3\":\n",
    "            beg, end = ask_interval()\n",
    "            stat(data, beg, end)\n",
    "        elif mode == \"4\":\n",
    "            break\n",
    "        else:\n",
    "            wrong()\n",
    "    \n",
    "    print(\"-----------------------------\")\n",
    "    print(\"      Данные сохранены!      \")\n",
    "    print(\"-----------------------------\")\n",
    "    \n",
    "    return data\n"
   ]
  },
  {
   "cell_type": "code",
   "execution_count": 77,
   "metadata": {},
   "outputs": [
    {
     "name": "stdout",
     "output_type": "stream",
     "text": [
      "Приветствуем вас в приложении\n",
      "-----------------------------\n",
      "------- Учёт финансов -------\n",
      "-----------------------------\n",
      "        Режимы работы:       \n",
      "-----------------------------\n",
      "   1.  Добавить зачисление   \n",
      "   2.  Добавить трату        \n",
      "   3.  Получить статистику   \n",
      "   4.  Выйти из программы    \n",
      "-----------------------------\n",
      " Формат ввода даты: YY-MM-DD \n",
      "-----------------------------\n"
     ]
    },
    {
     "name": "stdin",
     "output_type": "stream",
     "text": [
      "    Выберите режим работы:    4\n"
     ]
    },
    {
     "name": "stdout",
     "output_type": "stream",
     "text": [
      "-----------------------------\n",
      "      Данные сохранены!      \n",
      "-----------------------------\n"
     ]
    },
    {
     "data": {
      "text/plain": [
       "[]"
      ]
     },
     "execution_count": 77,
     "metadata": {},
     "output_type": "execute_result"
    }
   ],
   "source": [
    "loop([])"
   ]
  },
  {
   "cell_type": "markdown",
   "metadata": {},
   "source": [
    "### 6. Работа с файлами"
   ]
  },
  {
   "cell_type": "code",
   "execution_count": 64,
   "metadata": {},
   "outputs": [],
   "source": [
    "def save(data, FILENAME):\n",
    "    for rec in data:\n",
    "        rec[2] = str(rec[2])\n",
    "    with open(FILENAME, \"w\") as f:\n",
    "        json.dump(data, f)\n",
    "\n",
    "def read(FILENAME):\n",
    "    if os.path.isfile(FILENAME):\n",
    "        with open(FILENAME) as f:\n",
    "            data = json.load(f)\n",
    "    else:\n",
    "        data = []\n",
    "    \n",
    "    for rec in data:\n",
    "        date_ints = map(int, rec[2].split(\"-\"))\n",
    "        rec[2] = dt.date(*date_ints)\n",
    "    \n",
    "    return data"
   ]
  },
  {
   "cell_type": "markdown",
   "metadata": {},
   "source": [
    "### 7. Собираем все вместе"
   ]
  },
  {
   "cell_type": "code",
   "execution_count": null,
   "metadata": {},
   "outputs": [],
   "source": [
    "def main(FILENAME):\n",
    "    data = read(FILENAME)\n",
    "    data = loop(data)\n",
    "    save(data, FILENAME)"
   ]
  },
  {
   "cell_type": "code",
   "execution_count": null,
   "metadata": {},
   "outputs": [],
   "source": [
    "main(\"journal.json\")"
   ]
  },
  {
   "cell_type": "code",
   "execution_count": 73,
   "metadata": {},
   "outputs": [],
   "source": [
    "def ask_file(FILENAME):\n",
    "    print(\"-----------------------------\")\n",
    "    print(\" Путь к файлу по-умолчанию:  \")\n",
    "    print(f\" {FILENAME}\")\n",
    "    print(\"-----------------------------\")\n",
    "    print(\"  Нажмите Enter для работы   \")\n",
    "    print(\"       с этим файлом.        \")\n",
    "    print(\"  Введите имя файла, если    \")\n",
    "    print(\"  нужно работать с другим    \")\n",
    "    command = input()\n",
    "    if command:\n",
    "        if os.path.isfile(command):\n",
    "            FILENAME = command\n",
    "            print(\"-----------------------------\")\n",
    "            print(\"  Файл выбран!     \")\n",
    "        else:\n",
    "            print(\"-----------------------------\")\n",
    "            print(\"  Такого файла нет!    \")\n",
    "            print(\"  Использую файл по-умолчанию    \")\n",
    "    return FILENAME\n",
    "        "
   ]
  },
  {
   "cell_type": "markdown",
   "metadata": {},
   "source": [
    "### 8. Домашнее задание\n",
    "1. Статистика по всему промежутку времени\n",
    "2. Подсчет общего количества трат и поступлений\n",
    "3. Статистика общих трат и поступлений по нескольким месяцам\n",
    "4. Аналогично пункту только по какой-то категории\n",
    "5. Программа для нескольких пользователей\n",
    "6. \\* Шифровать данные каждого пользователя паролем"
   ]
  }
 ],
 "metadata": {
  "kernelspec": {
   "display_name": "Python 3",
   "language": "python",
   "name": "python3"
  },
  "language_info": {
   "codemirror_mode": {
    "name": "ipython",
    "version": 3
   },
   "file_extension": ".py",
   "mimetype": "text/x-python",
   "name": "python",
   "nbconvert_exporter": "python",
   "pygments_lexer": "ipython3",
   "version": "3.7.6"
  }
 },
 "nbformat": 4,
 "nbformat_minor": 4
}
